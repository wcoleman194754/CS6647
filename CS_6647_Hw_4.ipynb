{
  "nbformat": 4,
  "nbformat_minor": 0,
  "metadata": {
    "colab": {
      "name": "CS 6647 Hw 4.ipynb",
      "provenance": [],
      "collapsed_sections": [],
      "authorship_tag": "ABX9TyMGG9gNaNER6l71nNY2SkVd",
      "include_colab_link": true
    },
    "kernelspec": {
      "name": "python3",
      "display_name": "Python 3"
    },
    "language_info": {
      "name": "python"
    }
  },
  "cells": [
    {
      "cell_type": "markdown",
      "metadata": {
        "id": "view-in-github",
        "colab_type": "text"
      },
      "source": [
        "<a href=\"https://colab.research.google.com/github/wcoleman194754/CS6647/blob/main/CS_6647_Hw_4.ipynb\" target=\"_parent\"><img src=\"https://colab.research.google.com/assets/colab-badge.svg\" alt=\"Open In Colab\"/></a>"
      ]
    },
    {
      "cell_type": "code",
      "execution_count": null,
      "metadata": {
        "id": "VVF9wU4PgGjf"
      },
      "outputs": [],
      "source": [
        ""
      ]
    },
    {
      "cell_type": "markdown",
      "source": [
        "Book codes for integration with wrong solution"
      ],
      "metadata": {
        "id": "sWRj9M0Nk1Fp"
      }
    },
    {
      "cell_type": "code",
      "source": [
        "import random \n",
        "import numpy as np\n",
        "import matplotlib.pyplot as plt\n",
        "\n",
        "\n",
        "# book codes for integration. with incorrect solution \n",
        "\n",
        "random.seed(2)\n",
        "f = lambda x: x * np.cos(71*x) + np.sin(13*x)\n",
        "a = 0.0\n",
        "\n",
        "b = 1.0\n",
        "NumSteps = 1000000 \n",
        "XIntegral=[]  \n",
        "YIntegral=[]\n",
        "XRectangle=[]  \n",
        "YRectangle=[]\n",
        "\n",
        "ymin = f(a)\n",
        "ymax = ymin\n",
        "for i in range(NumSteps):\n",
        "    x = a + (b - a) * float(i) / NumSteps\n",
        "    y = f(x)\n",
        "    if y < ymin: ymin = y\n",
        "    if y > ymax: ymax = y\n",
        "\n",
        "A = (b - a) * (ymax - ymin)\n",
        "N = 1000000 \n",
        "M = 0\n",
        "for k in range(N):\n",
        "    x = a + (b - a) * random.random()\n",
        "    y = ymin + (ymax - ymin) * random.random()\n",
        "    if y <= f(x):\n",
        "            M += 1 \n",
        "            XIntegral.append(x)\n",
        "            YIntegral.append(y)  \n",
        "    else:\n",
        "            XRectangle.append(x) \n",
        "            YRectangle.append(y)              \n",
        "NumericalIntegral = M / N * A\n",
        "print (\"Numerical integration = \" + str(NumericalIntegral))\n",
        "\n",
        "XLin=np.linspace(a,b)\n",
        "YLin=[]\n",
        "for x in XLin:\n",
        "    YLin.append(f(x))"
      ],
      "metadata": {
        "colab": {
          "base_uri": "https://localhost:8080/"
        },
        "id": "vHPghFcsgRHY",
        "outputId": "ffbb7529-b1e2-4eb9-f192-40a4487dc96d"
      },
      "execution_count": 2,
      "outputs": [
        {
          "output_type": "stream",
          "name": "stdout",
          "text": [
            "Numerical integration = 1.8582286623623006\n"
          ]
        }
      ]
    },
    {
      "cell_type": "markdown",
      "source": [
        "correct solution"
      ],
      "metadata": {
        "id": "NBxBHfwOk8Ct"
      }
    },
    {
      "cell_type": "code",
      "source": [
        "from sympy import sin, cos, symbols, integrate\n",
        "x = symbols( 'x')\n",
        "integrate(x * cos (71*x) + sin(13*x),(x, 0,1)).evalf(6)"
      ],
      "metadata": {
        "colab": {
          "base_uri": "https://localhost:8080/",
          "height": 37
        },
        "id": "b_z4vj5-0LWm",
        "outputId": "ae64336c-a152-481b-f001-8acc4d36410a"
      },
      "execution_count": null,
      "outputs": [
        {
          "output_type": "execute_result",
          "data": {
            "text/plain": [
              "0.0202549"
            ],
            "text/latex": "$\\displaystyle 0.0202549$"
          },
          "metadata": {},
          "execution_count": 11
        }
      ]
    },
    {
      "cell_type": "markdown",
      "source": [
        "monte carlo integration"
      ],
      "metadata": {
        "id": "zFe_42Ilk-gg"
      }
    },
    {
      "cell_type": "code",
      "source": [
        "# importing the modules\n",
        "from scipy import random\n",
        "import numpy as np\n",
        "  \n",
        "# limits of integration\n",
        "a = 0\n",
        "b = 1\n",
        "N = 1000\n",
        "  \n",
        "results = []\n",
        "\n",
        "def f(x):\n",
        "      return x * np.cos(71 *x) + np.sin(13 *x)\n",
        "\n",
        "for i in range(1000):\n",
        "  # create an empty array to hold values\n",
        "  arr = np.zeros(N)\n",
        " \n",
        "  for i in range(len(arr)):\n",
        "      arr[i] = random.uniform(a, b)\n",
        "    \n",
        "  # variable to store sum of the functions of \n",
        "  # different values of x\n",
        "  integral = 0.0\n",
        "    \n",
        "  # iterates and sums up values of different \n",
        "  # functions of x\n",
        "  for i in arr:\n",
        "      integral += f(i)\n",
        "    \n",
        "  ans = (b-a)/float(N)*integral\n",
        "  \n",
        "  results.append(ans)\n",
        "\n",
        "print(sum(results)/1000)\n",
        "\n",
        "\n"
      ],
      "metadata": {
        "colab": {
          "base_uri": "https://localhost:8080/"
        },
        "id": "EXJ0SDnl4NOQ",
        "outputId": "01bb0fb9-e111-45a1-d433-3b55400e6fc0"
      },
      "execution_count": 107,
      "outputs": [
        {
          "output_type": "stream",
          "name": "stdout",
          "text": [
            "0.018358375389915804\n"
          ]
        }
      ]
    },
    {
      "cell_type": "markdown",
      "source": [
        "Drawing box and sticking with choice 1"
      ],
      "metadata": {
        "id": "T7ceAXYhtpyy"
      }
    },
    {
      "cell_type": "code",
      "source": [
        "import numpy as np\n",
        "\n",
        "#without swapping\n",
        "\n",
        "my_list = [10,10,100]\n",
        "\n",
        "total_results_person1 = []\n",
        "total_results_person2 = []\n",
        "\n",
        "for i in range(1000):\n",
        "  N = 10\n",
        "  person1_results = []\n",
        "  person2_results = []\n",
        "\n",
        "  for i in range(N):\n",
        "    person1_choice = random.choice(my_list)\n",
        "    person1_results.append(person1_choice)\n",
        "    my_list.remove(person1_choice)\n",
        "\n",
        "    person2_choice = random.choice(my_list)\n",
        "    person2_results.append(person2_choice)\n",
        "    \n",
        "    my_list.append(person1_choice)\n",
        "\n",
        "  p1_total = sum(person1_results)\n",
        "  average_amt = p1_total/N\n",
        "  total_results_person1.append(average_amt)\n",
        "\n",
        "  p2_total = sum(person2_results)\n",
        "  average_amt2 = p2_total/N\n",
        "  total_results_person2.append(average_amt2)\n",
        "\n",
        "\n",
        "exp_val_person1 = sum(total_results_person1)/1000\n",
        "exp_val_person2 = sum(total_results_person2)/1000\n",
        "\n",
        "print('expected value for person 1', exp_val_person1)\n",
        "print('expected value for person 2', exp_val_person2)\n"
      ],
      "metadata": {
        "colab": {
          "base_uri": "https://localhost:8080/"
        },
        "id": "5Bhv2PmAX1l4",
        "outputId": "29e5a24a-8c67-4d59-cbde-79208222a073"
      },
      "execution_count": 86,
      "outputs": [
        {
          "output_type": "stream",
          "name": "stdout",
          "text": [
            "expected value for person 1 40.357\n",
            "expected value for person 2 40.213\n"
          ]
        }
      ]
    },
    {
      "cell_type": "markdown",
      "source": [
        "Drawing box and swapping with box 2"
      ],
      "metadata": {
        "id": "Qq80faw3t9Ie"
      }
    },
    {
      "cell_type": "code",
      "source": [
        "import numpy as np\n",
        "\n",
        "#with swapping\n",
        "\n",
        "my_list = [10,10,100]\n",
        "\n",
        "total_results_person1 = []\n",
        "total_results_person2 = []\n",
        "\n",
        "for i in range(1000):\n",
        "  N = 10\n",
        "  person1_results = []\n",
        "  person2_results = []\n",
        "\n",
        "  for i in range(N):\n",
        "    person1_choice = random.choice(my_list)\n",
        "    my_list.remove(person1_choice)\n",
        "\n",
        "    person2_choice = random.choice(my_list)\n",
        "    person2_results.append(person2_choice)\n",
        "    my_list.remove(person2_choice)\n",
        "\n",
        "    person1_choice2 = random.choice(my_list)\n",
        "    person1_results.append(person1_choice2)\n",
        "    \n",
        "    my_list.append(person1_choice)\n",
        "    my_list.append(person2_choice)\n",
        "\n",
        "\n",
        "  p1_total = sum(person1_results)\n",
        "  average_amt = p1_total/N\n",
        "  total_results_person1.append(average_amt)\n",
        "\n",
        "  p2_total = sum(person2_results)\n",
        "  average_amt2 = p2_total/N\n",
        "  total_results_person2.append(average_amt2)\n",
        "\n",
        "\n",
        "exp_val_person1 = sum(total_results_person1)/1000\n",
        "exp_val_person2 = sum(total_results_person2)/1000\n",
        "\n",
        "print('expected value for person 1', exp_val_person1)\n",
        "print('expected value for person 2', exp_val_person2)\n"
      ],
      "metadata": {
        "colab": {
          "base_uri": "https://localhost:8080/"
        },
        "id": "ZI6cduUjfUf1",
        "outputId": "3b0ac928-6538-438b-e7b6-cdd72a263ff5"
      },
      "execution_count": 106,
      "outputs": [
        {
          "output_type": "stream",
          "name": "stdout",
          "text": [
            "expected value for person 1 40.708\n",
            "expected value for person 2 40.024\n"
          ]
        }
      ]
    },
    {
      "cell_type": "code",
      "source": [
        ""
      ],
      "metadata": {
        "id": "LrBAZW3-pPde"
      },
      "execution_count": null,
      "outputs": []
    }
  ]
}