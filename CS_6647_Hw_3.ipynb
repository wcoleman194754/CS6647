{
  "metadata": {
    "kernelspec": {
      "display_name": "Python 3",
      "language": "python",
      "name": "python3"
    },
    "language_info": {
      "name": "python",
      "version": "3.6.4",
      "mimetype": "text/x-python",
      "codemirror_mode": {
        "name": "ipython",
        "version": 3
      },
      "pygments_lexer": "ipython3",
      "nbconvert_exporter": "python",
      "file_extension": ".py"
    },
    "colab": {
      "name": "CS 6647 Hw 3.ipynb",
      "provenance": [],
      "collapsed_sections": [],
      "include_colab_link": true
    }
  },
  "nbformat_minor": 0,
  "nbformat": 4,
  "cells": [
    {
      "cell_type": "markdown",
      "metadata": {
        "id": "view-in-github",
        "colab_type": "text"
      },
      "source": [
        "<a href=\"https://colab.research.google.com/github/wcoleman194754/CS6647/blob/main/CS_6647_Hw_3.ipynb\" target=\"_parent\"><img src=\"https://colab.research.google.com/assets/colab-badge.svg\" alt=\"Open In Colab\"/></a>"
      ]
    },
    {
      "cell_type": "markdown",
      "source": [
        "## The Uniform Distribution"
      ],
      "metadata": {
        "id": "s26AyhYpWDq5"
      }
    },
    {
      "cell_type": "markdown",
      "source": [
        "Load libraries. We use the scipy.stats library."
      ],
      "metadata": {
        "id": "zpBI2awMW6Oc"
      }
    },
    {
      "cell_type": "code",
      "source": [
        "import numpy as np\n",
        "from scipy import stats\n",
        "import matplotlib.pyplot as plt"
      ],
      "metadata": {
        "trusted": true,
        "id": "grtbaBqpWDq6"
      },
      "execution_count": 1,
      "outputs": []
    },
    {
      "cell_type": "markdown",
      "source": [
        "Use scipy library to create a randam uniform distribution data (100000 numbers from 0 to 10)"
      ],
      "metadata": {
        "id": "oByCe-f4WabL"
      }
    },
    {
      "cell_type": "code",
      "source": [
        ""
      ],
      "metadata": {
        "trusted": true,
        "id": "bZDkJE3EWDq8"
      },
      "execution_count": null,
      "outputs": []
    },
    {
      "cell_type": "code",
      "source": [
        "from scipy.stats import uniform\n",
        "\n",
        "a=0\n",
        "b=10\n",
        "size=100000\n",
        "\n",
        "x = np.linspace(a, b, size)\n",
        "\n",
        "continuous_uniform_distribution = uniform(loc=a, scale=b)\n",
        "\n",
        "continuous_uniform_pdf = continuous_uniform_distribution.pdf(x)\n",
        "print(continuous_uniform_pdf)"
      ],
      "metadata": {
        "colab": {
          "base_uri": "https://localhost:8080/"
        },
        "id": "po0Imt1ycoxR",
        "outputId": "c96a7526-3310-4522-e49d-6b2143c45109"
      },
      "execution_count": 2,
      "outputs": [
        {
          "output_type": "stream",
          "name": "stdout",
          "text": [
            "[0.1 0.1 0.1 ... 0.1 0.1 0.1]\n"
          ]
        }
      ]
    },
    {
      "cell_type": "markdown",
      "source": [
        "Plot the following density distribution.\n",
        "You can use figsize=(9,9), xlim=(-1,11)"
      ],
      "metadata": {
        "id": "VDFCdnvxXKBO"
      }
    },
    {
      "cell_type": "code",
      "source": [
        "plt.plot(x, continuous_uniform_pdf)\n",
        "plt.xlabel('X')\n",
        "plt.ylabel('Probability')\n",
        "plt.show()"
      ],
      "metadata": {
        "trusted": true,
        "colab": {
          "base_uri": "https://localhost:8080/",
          "height": 279
        },
        "id": "sv6O_1QTWDq8",
        "outputId": "074b70df-ff27-4a5b-c26a-58197f880864"
      },
      "execution_count": 3,
      "outputs": [
        {
          "output_type": "display_data",
          "data": {
            "text/plain": [
              "<Figure size 432x288 with 1 Axes>"
            ],
            "image/png": "[encoded data removed]"
          },
          "metadata": {
            "needs_background": "light"
          }
        }
      ]
    },
    {
      "cell_type": "markdown",
      "source": [
        "\n",
        "\n",
        "Check scipy libraries and use useful functions. "
      ],
      "metadata": {
        "id": "fTrcokY6WDq9"
      }
    },
    {
      "cell_type": "markdown",
      "source": [
        "cdf (cumulative distribution function) gives you the area under the distribution's density curve to the left of a certain value on the x axis. Calculate cdf with x axis from 0 to 2.5. "
      ],
      "metadata": {
        "id": "zksEWTRzYZRW"
      }
    },
    {
      "cell_type": "code",
      "source": [
        "continuous_uniform_cdf = continuous_uniform_distribution.cdf(x)\n",
        "\n",
        "print(continuous_uniform_distribution.cdf(2.5) - continuous_uniform_distribution.cdf(0))"
      ],
      "metadata": {
        "trusted": true,
        "colab": {
          "base_uri": "https://localhost:8080/"
        },
        "id": "h9rCwTP9WDq-",
        "outputId": "0e730b32-2f2f-4fcd-ea58-abc9895fe9d8"
      },
      "execution_count": 4,
      "outputs": [
        {
          "output_type": "stream",
          "name": "stdout",
          "text": [
            "0.25\n"
          ]
        }
      ]
    },
    {
      "cell_type": "markdown",
      "source": [
        "ppf() is the inverse of cdf(): it returns the x axis cutoff value (quantile) associated with a given probability. Caculate the cutoff value for propabality with 40%."
      ],
      "metadata": {
        "id": "YSH29ZK1WDq_"
      }
    },
    {
      "cell_type": "code",
      "source": [
        "continuous_uniform_distribution.ppf(.4)"
      ],
      "metadata": {
        "trusted": true,
        "colab": {
          "base_uri": "https://localhost:8080/"
        },
        "id": "0Qdov9KjWDq_",
        "outputId": "8389fd74-4453-44fd-abf7-31f34bfc7949"
      },
      "execution_count": 5,
      "outputs": [
        {
          "output_type": "execute_result",
          "data": {
            "text/plain": [
              "4.0"
            ]
          },
          "metadata": {},
          "execution_count": 5
        }
      ]
    },
    {
      "cell_type": "markdown",
      "source": [
        "Demonstrate for uniform distribution, x values within the range will have the same probability desity.  x values outside the range have a probability density of 0. The output is similar as the following."
      ],
      "metadata": {
        "id": "TCqkfCI5WDrA"
      }
    },
    {
      "cell_type": "code",
      "source": [
        "print('Density at x value -1')\n",
        "print(continuous_uniform_distribution.pdf(-1))\n",
        "print('Density at x value 2')\n",
        "print(continuous_uniform_distribution.pdf(2))\n",
        "print('Density at x value 5')\n",
        "print(continuous_uniform_distribution.pdf(5))\n",
        "print('Density at x value 8')\n",
        "print(continuous_uniform_distribution.pdf(8))\n",
        "print('Density at x value 11')\n",
        "print(continuous_uniform_distribution.pdf(11))"
      ],
      "metadata": {
        "trusted": true,
        "colab": {
          "base_uri": "https://localhost:8080/"
        },
        "id": "KosCGaV6WDrA",
        "outputId": "e7688bf5-296a-408e-a071-a6a90ffbc4fa"
      },
      "execution_count": 6,
      "outputs": [
        {
          "output_type": "stream",
          "name": "stdout",
          "text": [
            "Density at x value -1\n",
            "0.0\n",
            "Density at x value 2\n",
            "0.1\n",
            "Density at x value 5\n",
            "0.1\n",
            "Density at x value 8\n",
            "0.1\n",
            "Density at x value 11\n",
            "0.0\n"
          ]
        }
      ]
    },
    {
      "cell_type": "markdown",
      "source": [
        "Probability distribution functions in scipy also support median(), mean(), var() and std()."
      ],
      "metadata": {
        "id": "eDG_C5DLWDrA"
      }
    },
    {
      "cell_type": "markdown",
      "source": [
        "## The Normal Distribution"
      ],
      "metadata": {
        "id": "dzU_xIDZWDrD"
      }
    },
    {
      "cell_type": "markdown",
      "source": [
        "\n",
        "Use scipy's norm to have normal distribution (see the graph below) .  The normal distribution has default vaues of  mean of 0 and standard deviation of 1. Investigate what percentage of data generated by a default normal distribution is below -1. What percentage of data generated is above 1 and what percentage lies between -1 and 1. Print the three percentages. The output is similar as the following. "
      ],
      "metadata": {
        "id": "4tlmrT-6WDrE"
      }
    },
    {
      "cell_type": "code",
      "source": [
        "from scipy.stats import norm\n",
        "\n",
        "\n",
        "cdf_lower  = norm(0,1).cdf(-1)\n",
        "\n",
        "cdf_upper  = norm(0,1).cdf(1)\n",
        "\n",
        "\n",
        "\n",
        "probability = cdf_upper - cdf_lower\n",
        "\n",
        "# percentage below -1\n",
        "print(cdf_lower)\n",
        "#percentage between -1 and 1\n",
        "print(probability)\n",
        "#percentage above 1\n",
        "print(1 - cdf_upper)"
      ],
      "metadata": {
        "trusted": true,
        "colab": {
          "base_uri": "https://localhost:8080/"
        },
        "id": "4OrSDB0_WDrE",
        "outputId": "3d00c16b-3cf8-4e7d-e8b8-72042922d147"
      },
      "execution_count": 7,
      "outputs": [
        {
          "output_type": "stream",
          "name": "stdout",
          "text": [
            "0.15865525393145707\n",
            "0.6826894921370859\n",
            "0.15865525393145707\n"
          ]
        }
      ]
    },
    {
      "cell_type": "markdown",
      "source": [
        "Plotting is not required. The codes will be included in the solution. The image below shows the bell shape normal distribution.  "
      ],
      "metadata": {
        "id": "wpzcmComWDrE"
      }
    },
    {
      "cell_type": "code",
      "source": [
        "\n"
      ],
      "metadata": {
        "trusted": true,
        "colab": {
          "base_uri": "https://localhost:8080/",
          "height": 537
        },
        "id": "aAhigYlmWDrE",
        "outputId": "fde3c1f4-4d84-4182-bbaa-d4dc54c469ec"
      },
      "execution_count": null,
      "outputs": [
        {
          "output_type": "display_data",
          "data": {
            "image/png": "[encoded data removed]",
            "text/plain": [
              "<Figure size 648x648 with 1 Axes>"
            ]
          },
          "metadata": {
            "needs_background": "light"
          }
        }
      ]
    },
    {
      "cell_type": "markdown",
      "source": [
        "\n",
        "print the ppf for 2.5% cutoff and 97.5% cutoff. The output is similar as the following"
      ],
      "metadata": {
        "id": "y3_jL-q7WDrF"
      }
    },
    {
      "cell_type": "code",
      "source": [
        "#ppf at 2.5 percent cutoff\n",
        "print(norm.ppf(.025, 0,1))\n",
        "#ppf at the 97.5 cutoff\n",
        "print(norm.ppf(.975,0,1))\n"
      ],
      "metadata": {
        "trusted": true,
        "colab": {
          "base_uri": "https://localhost:8080/"
        },
        "id": "6z018RRmWDrF",
        "outputId": "6ca333d6-6b85-4eba-9692-2be268e6c634"
      },
      "execution_count": 8,
      "outputs": [
        {
          "output_type": "stream",
          "name": "stdout",
          "text": [
            "-1.9599639845400545\n",
            "1.959963984540054\n"
          ]
        }
      ]
    },
    {
      "cell_type": "markdown",
      "source": [
        "The quantile output above confirms that roughly 5% of the data lies more than 2 standard deviations from the mean.\n"
      ],
      "metadata": {
        "id": "nV_a8hFzWDrF"
      }
    },
    {
      "cell_type": "markdown",
      "source": [
        "## The Binomial Distribution"
      ],
      "metadata": {
        "id": "jMRGOfRlWDrF"
      }
    },
    {
      "cell_type": "markdown",
      "source": [
        "We will use binomial distribution to model coin flips. The scipy name for the binomial is binom. Here we set the number of flips per trial to 10,  the number of trials to 10000, and success probability to 0.5. \n",
        "\n",
        "Create a random binomial distribution data \"fair_coin_flips\" in the code line below."
      ],
      "metadata": {
        "id": "M_3gvuROWDrF"
      }
    },
    {
      "cell_type": "code",
      "source": [
        "import pandas as pd\n",
        "from scipy.stats import binom\n",
        "\n",
        "fair_coin_flips = binom.rvs(10, .5, size=10000)\n",
        "fair_coin_flips"
      ],
      "metadata": {
        "id": "mkJxZbGIxizh",
        "colab": {
          "base_uri": "https://localhost:8080/"
        },
        "outputId": "e9fb11b9-20bc-4d70-f024-856c72881993"
      },
      "execution_count": 9,
      "outputs": [
        {
          "output_type": "execute_result",
          "data": {
            "text/plain": [
              "array([6, 7, 3, ..., 6, 4, 4])"
            ]
          },
          "metadata": {},
          "execution_count": 9
        }
      ]
    },
    {
      "cell_type": "code",
      "source": [
        "# Codes are provided here. \n",
        "# Print out the counts for 0 heads, 1 head, ...10 heads of each trial with 10000 trials. \n",
        "# Draw the histogram.\n",
        "\n",
        "plt.figure()\n",
        "plt.hist(fair_coin_flips, density = True, alpha = 0.8, histtype = 'bar', color = 'blue', ec= 'black')\n",
        "plt.show()\n",
        "print(pd.crosstab(index=\"counts\", columns= fair_coin_flips))"
      ],
      "metadata": {
        "trusted": true,
        "colab": {
          "base_uri": "https://localhost:8080/",
          "height": 319
        },
        "id": "n9AXH35TWDrF",
        "outputId": "b40ec576-3ea0-4c91-aa7d-3639803e5438"
      },
      "execution_count": 10,
      "outputs": [
        {
          "output_type": "display_data",
          "data": {
            "text/plain": [
              "<Figure size 432x288 with 1 Axes>"
            ],
            "image/png": "[encoded data removed]"
          },
          "metadata": {
            "needs_background": "light"
          }
        },
        {
          "output_type": "stream",
          "name": "stdout",
          "text": [
            "col_0   0    1    2     3     4     5     6     7    8    9   10\n",
            "row_0                                                           \n",
            "counts  12  119  433  1186  1953  2457  2155  1196  385  101   3\n"
          ]
        }
      ]
    },
    {
      "cell_type": "markdown",
      "source": [
        "The histogram above shows us that a binomial distribution with a 50% probability of success is roughly symmetric, with the most likely outcomes lying at the center. \n",
        "Change the success rate to 0.8, implement the codes similar as above to show the distribution won't be symmetric:"
      ],
      "metadata": {
        "id": "6NOTE2BIWDrG"
      }
    },
    {
      "cell_type": "code",
      "source": [
        "fair_coin_flips = binom.rvs(10, .8, size=10000)\n",
        "fair_coin_flips\n",
        "\n",
        "plt.figure()\n",
        "plt.hist(fair_coin_flips, density = True, alpha = 0.8, histtype = 'bar', color = 'blue', ec= 'black')\n",
        "plt.show()\n",
        "print(pd.crosstab(index=\"counts\", columns= fair_coin_flips))"
      ],
      "metadata": {
        "trusted": true,
        "colab": {
          "base_uri": "https://localhost:8080/",
          "height": 319
        },
        "id": "ayZSW5zmWDrG",
        "outputId": "ae994a9e-e9fb-4982-e845-4c61b02eb412"
      },
      "execution_count": 11,
      "outputs": [
        {
          "output_type": "display_data",
          "data": {
            "text/plain": [
              "<Figure size 432x288 with 1 Axes>"
            ],
            "image/png": "[encoded data removed]"
          },
          "metadata": {
            "needs_background": "light"
          }
        },
        {
          "output_type": "stream",
          "name": "stdout",
          "text": [
            "col_0   2   3   4    5    6     7     8     9     10\n",
            "row_0                                               \n",
            "counts   1   5  53  262  861  2078  2999  2674  1067\n"
          ]
        }
      ]
    },
    {
      "cell_type": "markdown",
      "source": [
        "Continue from above binomial distribution(success rate=0.8), give the codes to get the probability of achieving 5 heads or less with 10 flips."
      ],
      "metadata": {
        "id": "ybMhEMhOWDrG"
      }
    },
    {
      "cell_type": "code",
      "source": [
        "from scipy.stats import binom\n",
        "binom.cdf(k =5, n=10, p = .8)"
      ],
      "metadata": {
        "trusted": true,
        "colab": {
          "base_uri": "https://localhost:8080/"
        },
        "id": "Fhm0ScKWWDrG",
        "outputId": "1fd5885d-cc77-419e-a2d8-0f2995ca5af5"
      },
      "execution_count": 12,
      "outputs": [
        {
          "output_type": "execute_result",
          "data": {
            "text/plain": [
              "0.032793497599999964"
            ]
          },
          "metadata": {},
          "execution_count": 12
        }
      ]
    },
    {
      "cell_type": "markdown",
      "source": [
        "Continue from above binomial distribution(success rate=0.8), give the codes to get the probability of achieving 9 heads or more with 10 flips."
      ],
      "metadata": {
        "id": "EdSbcxw62Y9x"
      }
    },
    {
      "cell_type": "code",
      "source": [
        "binom.cdf(k=10, n=10, p=0.8) - binom.cdf(k=8, n=10, p=0.8)"
      ],
      "metadata": {
        "trusted": true,
        "colab": {
          "base_uri": "https://localhost:8080/"
        },
        "id": "HBxh9yKQWDrG",
        "outputId": "19a44dbe-8b12-4ab6-b8d7-6143c075c0d4"
      },
      "execution_count": 13,
      "outputs": [
        {
          "output_type": "execute_result",
          "data": {
            "text/plain": [
              "0.37580963840000003"
            ]
          },
          "metadata": {},
          "execution_count": 13
        }
      ]
    },
    {
      "cell_type": "markdown",
      "source": [
        "For continuous probability density functions, you use pdf() to check the probability density at a given x value. For discrete distributions like the binomial, use stats.distribution.pmf() (probability mass function) to check the mass (proportion of observations) at given number of successes k. \n",
        "Write codes to give the probability density at 5 heads with success rate of 0.5 of 10 flips."
      ],
      "metadata": {
        "id": "muBEhjHyWDrH"
      }
    },
    {
      "cell_type": "code",
      "source": [
        "n=10\n",
        "p=0.5\n",
        "binomial=stats.binom.pmf(5,n,p)\n",
        "binomial"
      ],
      "metadata": {
        "trusted": true,
        "colab": {
          "base_uri": "https://localhost:8080/"
        },
        "id": "pn7DjhdIWDrH",
        "outputId": "cc698d39-2761-48bf-b301-e7bf8f2bfba7"
      },
      "execution_count": 14,
      "outputs": [
        {
          "output_type": "execute_result",
          "data": {
            "text/plain": [
              "0.24609375000000025"
            ]
          },
          "metadata": {},
          "execution_count": 14
        }
      ]
    },
    {
      "cell_type": "markdown",
      "source": [
        "What about the probability density at 8 heads with success rate of 0.8 of 10 flips?"
      ],
      "metadata": {
        "id": "yygZPFEa8TEG"
      }
    },
    {
      "cell_type": "code",
      "source": [
        "n=10\n",
        "p=0.8\n",
        "binomial=stats.binom.pmf(8,n,p)\n",
        "binomial"
      ],
      "metadata": {
        "trusted": true,
        "colab": {
          "base_uri": "https://localhost:8080/"
        },
        "id": "XNCfMBj6WDrH",
        "outputId": "5132f389-cab0-463f-c9c8-dd0fdcb3b2e4"
      },
      "execution_count": 15,
      "outputs": [
        {
          "output_type": "execute_result",
          "data": {
            "text/plain": [
              "0.301989888"
            ]
          },
          "metadata": {},
          "execution_count": 15
        }
      ]
    },
    {
      "cell_type": "markdown",
      "source": [
        "## Wrap Up"
      ],
      "metadata": {
        "id": "LKqkiSsnWDrJ"
      }
    },
    {
      "cell_type": "markdown",
      "source": [
        "Extra information of Exponential Distributions and Poisson Distributions will be given in the solution. \n",
        "\n",
        "\n",
        "Python's scipy library contains functions that make it easy to work with a wide range of probability distributions, including [many that we did not discuss](https://docs.scipy.org/doc/scipy/reference/stats.html) in this lesson. Probability distribution functions are useful for generating random data, modeling random events and aiding with statistical tests and analysis.\n"
      ],
      "metadata": {
        "id": "HEVLHyABWDrK"
      }
    }
  ]
}