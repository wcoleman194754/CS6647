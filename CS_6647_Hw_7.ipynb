{
  "nbformat": 4,
  "nbformat_minor": 0,
  "metadata": {
    "colab": {
      "name": "CS 6647 Hw 7.ipynb",
      "provenance": [],
      "collapsed_sections": [],
      "authorship_tag": "ABX9TyOss20IswXuPvq7MsMRHtHY",
      "include_colab_link": true
    },
    "kernelspec": {
      "name": "python3",
      "display_name": "Python 3"
    },
    "language_info": {
      "name": "python"
    }
  },
  "cells": [
    {
      "cell_type": "markdown",
      "metadata": {
        "id": "view-in-github",
        "colab_type": "text"
      },
      "source": [
        "<a href=\"https://colab.research.google.com/github/wcoleman194754/CS6647/blob/main/CS_6647_Hw_7.ipynb\" target=\"_parent\"><img src=\"https://colab.research.google.com/assets/colab-badge.svg\" alt=\"Open In Colab\"/></a>"
      ]
    },
    {
      "cell_type": "code",
      "execution_count": 1,
      "metadata": {
        "id": "0ncjnBGl_GbX"
      },
      "outputs": [],
      "source": [
        "import numpy as np\n",
        "from scipy.optimize import minimize"
      ]
    },
    {
      "cell_type": "code",
      "source": [
        "# box volume function\n",
        "\n",
        "def box_volume(x):\n",
        "  length = x[0]\n",
        "  width = x[1]\n",
        "  height = x[2]\n",
        "  volume = length * width * height\n",
        "  return volume"
      ],
      "metadata": {
        "id": "TZIvlz-l_bUW"
      },
      "execution_count": 2,
      "outputs": []
    },
    {
      "cell_type": "code",
      "source": [
        "# box surface area function\n",
        "\n",
        "def surface_area(x):\n",
        "  length = x[0]\n",
        "  width = x[1]\n",
        "  height = x[2]\n",
        "  box_surface_area = 2*(length * width + length * height + width * height)\n",
        "  return box_surface_area"
      ],
      "metadata": {
        "id": "NDHD9Zkk_6_y"
      },
      "execution_count": 3,
      "outputs": []
    },
    {
      "cell_type": "code",
      "source": [
        "# objective function \n",
        "\n",
        "def objective(x):\n",
        "  return -box_volume(x)"
      ],
      "metadata": {
        "id": "UbDGL0JsA_Qk"
      },
      "execution_count": 33,
      "outputs": []
    },
    {
      "cell_type": "code",
      "source": [
        "# constraint\n",
        "\n",
        "def constraint(x):\n",
        "  return 10 - surface_area(x)"
      ],
      "metadata": {
        "id": "_ZZWH-WkBmw3"
      },
      "execution_count": 54,
      "outputs": []
    },
    {
      "cell_type": "code",
      "source": [
        "constr = ({'type': 'ineq', 'fun':constraint})"
      ],
      "metadata": {
        "id": "Mitq0oIqpnBB"
      },
      "execution_count": 55,
      "outputs": []
    },
    {
      "cell_type": "code",
      "source": [
        "# starting guess values\n",
        "\n",
        "length_guess = 1\n",
        "width_guess = 1\n",
        "height_guess = 1"
      ],
      "metadata": {
        "id": "qvb7KnYvcdP4"
      },
      "execution_count": 56,
      "outputs": []
    },
    {
      "cell_type": "code",
      "source": [
        "guesses = np.array([length_guess, width_guess, height_guess])"
      ],
      "metadata": {
        "id": "s7A20n2WdQ3N"
      },
      "execution_count": 57,
      "outputs": []
    },
    {
      "cell_type": "code",
      "source": [
        "answer = minimize(objective, guesses, method='SLSQP', constraints=constr, options={'disp':True})"
      ],
      "metadata": {
        "colab": {
          "base_uri": "https://localhost:8080/"
        },
        "id": "sxgySMg0dfVt",
        "outputId": "7f800f79-6c3a-4361-80e8-bf8281bc7de8"
      },
      "execution_count": 58,
      "outputs": [
        {
          "output_type": "stream",
          "name": "stdout",
          "text": [
            "Optimization terminated successfully    (Exit mode 0)\n",
            "            Current function value: -2.151657414467269\n",
            "            Iterations: 4\n",
            "            Function evaluations: 17\n",
            "            Gradient evaluations: 4\n"
          ]
        }
      ]
    },
    {
      "cell_type": "code",
      "source": [
        "optimum_size = answer.x\n",
        "optimum_volume = -answer.fun"
      ],
      "metadata": {
        "id": "EuDfwzPPgRAC"
      },
      "execution_count": 59,
      "outputs": []
    },
    {
      "cell_type": "code",
      "source": [
        "optimum_surface_area = surface_area(optimum_size)"
      ],
      "metadata": {
        "id": "rlKinVYPg28X"
      },
      "execution_count": 60,
      "outputs": []
    },
    {
      "cell_type": "code",
      "source": [
        "# results\n",
        "\n",
        "print('length: ',optimum_size[0])\n",
        "print('width: ',optimum_size[1])\n",
        "print('height: ',optimum_size[2])\n",
        "print('volume: ',optimum_volume)\n",
        "print('surface area: ',optimum_surface_area)"
      ],
      "metadata": {
        "colab": {
          "base_uri": "https://localhost:8080/"
        },
        "id": "l1v9qniZhCjO",
        "outputId": "f036f663-afa3-4ff2-8088-59fdba070ebd"
      },
      "execution_count": 61,
      "outputs": [
        {
          "output_type": "stream",
          "name": "stdout",
          "text": [
            "length:  1.2909944727867015\n",
            "width:  1.290994455352175\n",
            "height:  1.2909944180130968\n",
            "volume:  2.151657414467269\n",
            "surface area:  9.999999999713689\n"
          ]
        }
      ]
    }
  ]
}