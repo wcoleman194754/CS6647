{
  "nbformat": 4,
  "nbformat_minor": 0,
  "metadata": {
    "colab": {
      "name": "CS 6647 HW 2.ipynb",
      "provenance": [],
      "collapsed_sections": [],
      "authorship_tag": "ABX9TyO+REXE7s1tXhtJK2sRk2yK",
      "include_colab_link": true
    },
    "kernelspec": {
      "name": "python3",
      "display_name": "Python 3"
    },
    "language_info": {
      "name": "python"
    }
  },
  "cells": [
    {
      "cell_type": "markdown",
      "metadata": {
        "id": "view-in-github",
        "colab_type": "text"
      },
      "source": [
        "<a href=\"https://colab.research.google.com/github/wcoleman194754/CS6647/blob/main/CS_6647_HW_2.ipynb\" target=\"_parent\"><img src=\"https://colab.research.google.com/assets/colab-badge.svg\" alt=\"Open In Colab\"/></a>"
      ]
    },
    {
      "cell_type": "code",
      "execution_count": null,
      "metadata": {
        "id": "21CyAhu2Zg1q"
      },
      "outputs": [],
      "source": [
        ""
      ]
    },
    {
      "cell_type": "markdown",
      "source": [
        "#Question 1"
      ],
      "metadata": {
        "id": "_AsmHf8nZh5o"
      }
    },
    {
      "cell_type": "code",
      "source": [
        "import random\n",
        "\n",
        "print('Generating 3 random integer numbers between 100 and 999 which are divisible by 5')\n",
        "for i in range(3):\n",
        "  print(random.randrange(100,999,5), end=\" \")"
      ],
      "metadata": {
        "colab": {
          "base_uri": "https://localhost:8080/"
        },
        "id": "Zg4_3gXgZj8u",
        "outputId": "5f9b9371-1270-41cb-9dbb-f8e46822e14d"
      },
      "execution_count": 4,
      "outputs": [
        {
          "output_type": "stream",
          "name": "stdout",
          "text": [
            "Generating 3 random integer numbers between 100 and 999 which are divisible by 5\n",
            "245 910 605 "
          ]
        }
      ]
    },
    {
      "cell_type": "code",
      "source": [
        ""
      ],
      "metadata": {
        "id": "9dTeML_FZyKL"
      },
      "execution_count": null,
      "outputs": []
    },
    {
      "cell_type": "markdown",
      "source": [
        "#Question 2"
      ],
      "metadata": {
        "id": "vr6lfuEjaPpO"
      }
    },
    {
      "cell_type": "code",
      "source": [
        "import numpy as np\n",
        "import matplotlib.pyplot as plt\n",
        "\n",
        "loc = 10\n",
        "scale = 1\n",
        "\n",
        "s = np.random.logistic(loc,scale,1000)\n",
        "count, bins, ignored = plt.hist(s, bins = 50)"
      ],
      "metadata": {
        "colab": {
          "base_uri": "https://localhost:8080/",
          "height": 265
        },
        "id": "7PGFCr6raRM2",
        "outputId": "609429f6-1a0b-47cd-fc71-a90d343bc110"
      },
      "execution_count": 5,
      "outputs": [
        {
          "output_type": "display_data",
          "data": {
            "text/plain": [
              "<Figure size 432x288 with 1 Axes>"
            ],
            "image/png": "[encoded data removed]"
          },
          "metadata": {
            "needs_background": "light"
          }
        }
      ]
    },
    {
      "cell_type": "code",
      "source": [
        ""
      ],
      "metadata": {
        "id": "78N_da1jaSdC"
      },
      "execution_count": null,
      "outputs": []
    },
    {
      "cell_type": "markdown",
      "source": [
        "#Question 3"
      ],
      "metadata": {
        "id": "r4bsfCpxaUNL"
      }
    },
    {
      "cell_type": "code",
      "source": [
        "import random \n",
        "\n",
        "print('Generating 6 digit random secure OTP')\n",
        "OTP = random.randint(111111,999999)\n",
        "print('Secure Random OTP is',OTP)\n"
      ],
      "metadata": {
        "colab": {
          "base_uri": "https://localhost:8080/"
        },
        "id": "k1pG3sdyaVyk",
        "outputId": "2588da37-7d47-4a0b-fc7d-52d41e2a1c93"
      },
      "execution_count": 6,
      "outputs": [
        {
          "output_type": "stream",
          "name": "stdout",
          "text": [
            "Generating 6 digit random secure OTP\n",
            "Secure Random OTP is 508624\n"
          ]
        }
      ]
    },
    {
      "cell_type": "code",
      "source": [
        ""
      ],
      "metadata": {
        "id": "e88xU7JiadRs"
      },
      "execution_count": null,
      "outputs": []
    },
    {
      "cell_type": "markdown",
      "source": [
        "#Question 4"
      ],
      "metadata": {
        "id": "PK_4QHzVafYe"
      }
    },
    {
      "cell_type": "code",
      "source": [
        "import random\n",
        "import string\n",
        "\n",
        "ex_string = 'Simulation and modeling'\n",
        "random_char = random.choice(ex_string)\n",
        "print(f'random char is \"{random_char}\"')\n"
      ],
      "metadata": {
        "colab": {
          "base_uri": "https://localhost:8080/"
        },
        "id": "MHFdFbhdahS6",
        "outputId": "1ebaaa50-1a35-4f4f-955d-25a2e3e37a20"
      },
      "execution_count": 9,
      "outputs": [
        {
          "output_type": "stream",
          "name": "stdout",
          "text": [
            "random char is \"m\"\n"
          ]
        }
      ]
    },
    {
      "cell_type": "code",
      "source": [
        ""
      ],
      "metadata": {
        "id": "B2yYbRieawzD"
      },
      "execution_count": null,
      "outputs": []
    },
    {
      "cell_type": "markdown",
      "source": [
        "#Question 5"
      ],
      "metadata": {
        "id": "lK4RhYCra3Jk"
      }
    },
    {
      "cell_type": "code",
      "source": [
        "import random\n",
        "import string\n",
        "\n",
        "count = 5\n",
        "\n",
        "password = ''\n",
        "while len(password) < count:\n",
        "  password += random.choice(string.ascii_uppercase + string.ascii_lowercase)\n",
        "                            \n",
        "    \n",
        "print(password)\n"
      ],
      "metadata": {
        "colab": {
          "base_uri": "https://localhost:8080/"
        },
        "id": "I13htLU3a4a-",
        "outputId": "91a1872c-d746-4e8a-da06-00cb5cd671ef"
      },
      "execution_count": 10,
      "outputs": [
        {
          "output_type": "stream",
          "name": "stdout",
          "text": [
            "mJzZG\n"
          ]
        }
      ]
    },
    {
      "cell_type": "markdown",
      "source": [
        "#Question 6"
      ],
      "metadata": {
        "id": "3Dzqid6lbf6T"
      }
    },
    {
      "cell_type": "code",
      "source": [
        "import random\n",
        "import string\n",
        "\n",
        "capital_letters = list(string.ascii_uppercase)\n",
        "numbers = list(string.digits)\n",
        "special_symbols = list(\"!@#$%^&*()\")\n",
        "all_characters = list(string.ascii_letters + string.digits + \"!@#$%^&*()\")\n",
        "\n",
        "length = 10\n",
        "password = []\n",
        "\n",
        "for i in range(2):\n",
        "  password.append(random.choice(capital_letters))\n",
        "\n",
        "password.append(random.choice(numbers))\n",
        "\n",
        "password.append(random.choice(special_symbols))\n",
        "\n",
        "while len(password) < length:\n",
        "  password.append(random.choice(all_characters))\n",
        "\n",
        "random.shuffle(password)  \n",
        "print(''.join(password))"
      ],
      "metadata": {
        "colab": {
          "base_uri": "https://localhost:8080/"
        },
        "id": "t4ra4cHubR3n",
        "outputId": "a0bb3cef-50cd-4f71-ae36-e6a5547243a9"
      },
      "execution_count": 11,
      "outputs": [
        {
          "output_type": "stream",
          "name": "stdout",
          "text": [
            "MyI2h0h(b3\n"
          ]
        }
      ]
    },
    {
      "cell_type": "markdown",
      "source": [
        "#Question 7"
      ],
      "metadata": {
        "id": "sXFdArqHblCD"
      }
    },
    {
      "cell_type": "code",
      "source": [
        "import numpy as np\n",
        "\n",
        "arr = np.arange(9).reshape((3, 3))\n",
        "np.random.permutation(arr)"
      ],
      "metadata": {
        "colab": {
          "base_uri": "https://localhost:8080/"
        },
        "id": "ChSd5E4cbeLE",
        "outputId": "8975389d-d5d4-49f6-eff1-4993460308b9"
      },
      "execution_count": 16,
      "outputs": [
        {
          "output_type": "execute_result",
          "data": {
            "text/plain": [
              "array([[3, 4, 5],\n",
              "       [6, 7, 8],\n",
              "       [0, 1, 2]])"
            ]
          },
          "metadata": {},
          "execution_count": 16
        }
      ]
    },
    {
      "cell_type": "markdown",
      "source": [
        "#Question 8"
      ],
      "metadata": {
        "id": "Ne_fmW4qcJuI"
      }
    },
    {
      "cell_type": "code",
      "source": [
        "import secrets\n",
        "\n",
        "print('Hexadecimal token: ', secrets.token_hex(64))\n",
        "print('Random URL: ', secrets.token_urlsafe())\n"
      ],
      "metadata": {
        "colab": {
          "base_uri": "https://localhost:8080/"
        },
        "id": "ZQASMHJqbzSt",
        "outputId": "fa0002db-9422-4bf7-8db7-19a221999cf6"
      },
      "execution_count": 17,
      "outputs": [
        {
          "output_type": "stream",
          "name": "stdout",
          "text": [
            "Hexadecimal token:  734e33071e252700f30bc9c301edb50cebde7de0d1087fff4f46bdb3f459b4a499df942382a7d13bbe9e1899393b9a726be1613b8022f2f839adb753fbbd3cc9\n",
            "Random URL:  1NldJczHctVGD9f_5D_ulen_NV6Lc7y0NesLOUECPhs\n"
          ]
        }
      ]
    },
    {
      "cell_type": "markdown",
      "source": [
        "#Question 9"
      ],
      "metadata": {
        "id": "95HrDiVecmEH"
      }
    },
    {
      "cell_type": "code",
      "source": [
        "import random\n",
        "\n",
        "def random_int():\n",
        "  random.seed(3)\n",
        "  random_integer = random.randint(1,6)\n",
        "  return random_integer\n",
        "\n",
        "print('Randomly selecting number from a die')\n",
        "i = 0\n",
        "while True:\n",
        "  print(random_int())\n",
        "  i += 1\n",
        "  if i == 5:\n",
        "    break\n",
        "\n"
      ],
      "metadata": {
        "colab": {
          "base_uri": "https://localhost:8080/"
        },
        "id": "lTDqd32xcXBJ",
        "outputId": "94821d18-220a-4264-8b66-b13a86c38201"
      },
      "execution_count": 30,
      "outputs": [
        {
          "output_type": "stream",
          "name": "stdout",
          "text": [
            "Randomly selecting number from a die\n",
            "2\n",
            "2\n",
            "2\n",
            "2\n",
            "2\n"
          ]
        }
      ]
    },
    {
      "cell_type": "markdown",
      "source": [
        "#Question 10"
      ],
      "metadata": {
        "id": "IZ3VrNxac4ZG"
      }
    },
    {
      "cell_type": "code",
      "source": [
        "import random\n",
        "\n",
        "\n",
        "random_int = random.randint(1,20)\n",
        "\n",
        "print(random_int)\n",
        "\n",
        "name = input('Hi what is your name? ')\n",
        "print(f'Welcome {name}! I am thinking of an integer between 1 and 20.')\n",
        "\n",
        "count = 1\n",
        "\n",
        "while count <= 6:\n",
        "  guess = int(input('Take a guess and type the integer? '))\n",
        "  if guess == random_int:\n",
        "    print(f'Well done {name}!. You guessed my number in {count} guesses!')\n",
        "    break\n",
        "  elif guess < random_int:\n",
        "    print('Your guess is too low.')\n",
        "  elif guess > random_int:\n",
        "    print('Your guess is too high.')\n",
        "  count += 1"
      ],
      "metadata": {
        "colab": {
          "base_uri": "https://localhost:8080/"
        },
        "id": "sfcTzbU_cpoZ",
        "outputId": "36bf7f5c-0c64-4fda-e535-a7c858e36498"
      },
      "execution_count": 24,
      "outputs": [
        {
          "output_type": "stream",
          "name": "stdout",
          "text": [
            "3\n",
            "Hi what is your name? John\n",
            "Welcome John! I am thinking of an integer between 1 and 20.\n",
            "Take a guess and type the integer? 10\n",
            "Your guess is too high.\n",
            "Take a guess and type the integer? 5\n",
            "Your guess is too high.\n",
            "Take a guess and type the integer? 1\n",
            "Your guess is too low.\n",
            "Take a guess and type the integer? 3\n",
            "Well done John!. You guessed my number in 4 guesses!\n"
          ]
        }
      ]
    },
    {
      "cell_type": "code",
      "source": [
        ""
      ],
      "metadata": {
        "id": "SPEh6DhPc_-K"
      },
      "execution_count": null,
      "outputs": []
    }
  ]
}