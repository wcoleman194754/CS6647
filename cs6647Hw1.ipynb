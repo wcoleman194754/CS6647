{
  "nbformat": 4,
  "nbformat_minor": 0,
  "metadata": {
    "colab": {
      "name": "cs6647Hw1.ipynb",
      "provenance": [],
      "collapsed_sections": [],
      "authorship_tag": "ABX9TyN2yFpJCIMYFuPRjT4ZdX85",
      "include_colab_link": true
    },
    "kernelspec": {
      "name": "python3",
      "display_name": "Python 3"
    },
    "language_info": {
      "name": "python"
    }
  },
  "cells": [
    {
      "cell_type": "markdown",
      "metadata": {
        "id": "view-in-github",
        "colab_type": "text"
      },
      "source": [
        "<a href=\"https://colab.research.google.com/github/wcoleman194754/CS6647/blob/main/cs6647Hw1.ipynb\" target=\"_parent\"><img src=\"https://colab.research.google.com/assets/colab-badge.svg\" alt=\"Open In Colab\"/></a>"
      ]
    },
    {
      "cell_type": "markdown",
      "source": [
        "Question 1."
      ],
      "metadata": {
        "id": "_mj9flCqlEui"
      }
    },
    {
      "cell_type": "code",
      "source": [
        "from sympy import *\n",
        "\n",
        "x = Symbol('x')\n",
        "\n",
        "expression = x**2 + 2*x -8\n",
        "\n",
        "print(solve(expression, dict= True))\n"
      ],
      "metadata": {
        "colab": {
          "base_uri": "https://localhost:8080/"
        },
        "id": "62WRQpPMlXnk",
        "outputId": "4b77ed2f-28a7-4108-de15-3baa66f2a57f"
      },
      "execution_count": null,
      "outputs": [
        {
          "output_type": "stream",
          "name": "stdout",
          "text": [
            "[{x: -4}, {x: 2}]\n"
          ]
        }
      ]
    },
    {
      "cell_type": "markdown",
      "source": [
        "Question 2. "
      ],
      "metadata": {
        "id": "jGtmK-p4loGt"
      }
    },
    {
      "cell_type": "code",
      "source": [
        " # the function e^x has the same value as its derivative. Also, the function F(x) = 0\n",
        " \n",
        "x = Symbol('x')\n",
        "\n",
        "expr = E**x\n",
        "expr\n",
        "diff(expr)"
      ],
      "metadata": {
        "colab": {
          "base_uri": "https://localhost:8080/",
          "height": 39
        },
        "id": "IkZQRexrlrYM",
        "outputId": "be5b19a0-e3bb-4f46-959f-d6d757900d29"
      },
      "execution_count": null,
      "outputs": [
        {
          "output_type": "execute_result",
          "data": {
            "text/plain": [
              "exp(x)"
            ],
            "text/latex": "$\\displaystyle e^{x}$"
          },
          "metadata": {},
          "execution_count": 15
        }
      ]
    },
    {
      "cell_type": "markdown",
      "source": [
        " Question 3."
      ],
      "metadata": {
        "id": "I56Q5ILDlyvC"
      }
    },
    {
      "cell_type": "code",
      "source": [
        "x = Symbol('x')\n",
        "expr = x**3\n",
        "expr\n",
        "\n",
        "integrate(expr, (x, 0, 1))"
      ],
      "metadata": {
        "colab": {
          "base_uri": "https://localhost:8080/",
          "height": 51
        },
        "id": "ExcrKZRpl3xN",
        "outputId": "6265b1d4-2597-4763-c5a9-dcfec9281756"
      },
      "execution_count": null,
      "outputs": [
        {
          "output_type": "execute_result",
          "data": {
            "text/plain": [
              "1/4"
            ],
            "text/latex": "$\\displaystyle \\frac{1}{4}$"
          },
          "metadata": {},
          "execution_count": 16
        }
      ]
    },
    {
      "cell_type": "markdown",
      "source": [
        "Question 4."
      ],
      "metadata": {
        "id": "or1B9ZQOl_Qq"
      }
    },
    {
      "cell_type": "code",
      "source": [
        "x = Symbol('x')\n",
        "\n",
        "y = (1/factorial(x))\n",
        "\n",
        "limit(y,x,oo)"
      ],
      "metadata": {
        "colab": {
          "base_uri": "https://localhost:8080/",
          "height": 37
        },
        "id": "wx4QD9homJeI",
        "outputId": "4b56a57d-29da-4787-8af3-a108732365e0"
      },
      "execution_count": null,
      "outputs": [
        {
          "output_type": "execute_result",
          "data": {
            "text/plain": [
              "0"
            ],
            "text/latex": "$\\displaystyle 0$"
          },
          "metadata": {},
          "execution_count": 17
        }
      ]
    },
    {
      "cell_type": "markdown",
      "source": [
        "Question 5."
      ],
      "metadata": {
        "id": "2Mki4wNrmJoT"
      }
    },
    {
      "cell_type": "code",
      "source": [
        "n = Symbol('n')\n",
        "y = (1 + 1/n)**n\n",
        "\n",
        "limit(y,n,oo)\n"
      ],
      "metadata": {
        "colab": {
          "base_uri": "https://localhost:8080/",
          "height": 39
        },
        "id": "7vCEPrl9mr69",
        "outputId": "21bf6a35-de1f-4c92-a0b6-1e18dce7bc3f"
      },
      "execution_count": null,
      "outputs": [
        {
          "output_type": "execute_result",
          "data": {
            "text/plain": [
              "E"
            ],
            "text/latex": "$\\displaystyle e$"
          },
          "metadata": {},
          "execution_count": 18
        }
      ]
    },
    {
      "cell_type": "markdown",
      "source": [
        "Question 6."
      ],
      "metadata": {
        "id": "Ns3jnFDjmwRX"
      }
    },
    {
      "cell_type": "code",
      "source": [
        "from sympy import *\n",
        "\n",
        "M = Matrix([[2,-3,-8,7], [-2,-1,2,-7], [1,0,-3,6]])\n",
        "\n",
        "transpose_matrix = M.T\n",
        "\n",
        "transpose_matrix"
      ],
      "metadata": {
        "colab": {
          "base_uri": "https://localhost:8080/",
          "height": 98
        },
        "id": "D9TMJV_omyim",
        "outputId": "229da942-6b0e-43cd-d7a4-55639f55a380"
      },
      "execution_count": null,
      "outputs": [
        {
          "output_type": "execute_result",
          "data": {
            "text/plain": [
              "Matrix([\n",
              "[ 2, -2,  1],\n",
              "[-3, -1,  0],\n",
              "[-8,  2, -3],\n",
              "[ 7, -7,  6]])"
            ],
            "text/latex": "$\\displaystyle \\left[\\begin{matrix}2 & -2 & 1\\\\-3 & -1 & 0\\\\-8 & 2 & -3\\\\7 & -7 & 6\\end{matrix}\\right]$"
          },
          "metadata": {},
          "execution_count": 58
        }
      ]
    },
    {
      "cell_type": "markdown",
      "source": [
        "Question 7."
      ],
      "metadata": {
        "id": "NFqp4gZYmzZw"
      }
    },
    {
      "cell_type": "code",
      "source": [
        "M = eye(3)\n",
        "\n",
        "\n",
        "\n",
        "M\n",
        "N = M.row(1) + M.row(0) * 3\n",
        "\n",
        "\n",
        "N\n",
        "\n",
        "M = M.row_insert(1, N)\n",
        "\n",
        "M.row_del(2)\n",
        "\n",
        "M\n",
        "\n",
        "\n"
      ],
      "metadata": {
        "colab": {
          "base_uri": "https://localhost:8080/",
          "height": 78
        },
        "id": "GTXKuW8-m1Jm",
        "outputId": "d7417864-ffca-45f1-8e77-6930e49afff0"
      },
      "execution_count": null,
      "outputs": [
        {
          "output_type": "execute_result",
          "data": {
            "text/plain": [
              "Matrix([\n",
              "[1, 0, 0],\n",
              "[3, 1, 0],\n",
              "[0, 0, 1]])"
            ],
            "text/latex": "$\\displaystyle \\left[\\begin{matrix}1 & 0 & 0\\\\3 & 1 & 0\\\\0 & 0 & 1\\end{matrix}\\right]$"
          },
          "metadata": {},
          "execution_count": 6
        }
      ]
    },
    {
      "cell_type": "markdown",
      "source": [
        "Question 8."
      ],
      "metadata": {
        "id": "J-grJPiem2H9"
      }
    },
    {
      "cell_type": "code",
      "source": [
        "M = Matrix([[1,0,0], [3,1,0], [0,0,1]])\n",
        "M\n",
        "M.det()"
      ],
      "metadata": {
        "colab": {
          "base_uri": "https://localhost:8080/",
          "height": 37
        },
        "id": "53yqD6f9m3vA",
        "outputId": "3fb809d4-c774-4f73-816f-403dc0a7077e"
      },
      "execution_count": null,
      "outputs": [
        {
          "output_type": "execute_result",
          "data": {
            "text/plain": [
              "1"
            ],
            "text/latex": "$\\displaystyle 1$"
          },
          "metadata": {},
          "execution_count": 5
        }
      ]
    },
    {
      "cell_type": "markdown",
      "source": [
        "Question 9."
      ],
      "metadata": {
        "id": "fA6viwyJm4cf"
      }
    },
    {
      "cell_type": "code",
      "source": [
        "from sympy import *\n",
        "\n",
        "M = Matrix( [[9, -2], [-2, 6]])\n",
        "\n",
        "print(M.eigenvals())\n",
        "print()\n",
        "print(M.eigenvects())\n"
      ],
      "metadata": {
        "colab": {
          "base_uri": "https://localhost:8080/"
        },
        "id": "7jWnUkIdm54o",
        "outputId": "a10c3e09-7315-4c54-be7e-d0cd8b0f2fed"
      },
      "execution_count": null,
      "outputs": [
        {
          "output_type": "stream",
          "name": "stdout",
          "text": [
            "{10: 1, 5: 1}\n",
            "\n",
            "[(5, 1, [Matrix([\n",
            "[1/2],\n",
            "[  1]])]), (10, 1, [Matrix([\n",
            "[-2],\n",
            "[ 1]])])]\n"
          ]
        }
      ]
    },
    {
      "cell_type": "markdown",
      "source": [
        "Question 10."
      ],
      "metadata": {
        "id": "hO9BbEtcm6uo"
      }
    },
    {
      "cell_type": "code",
      "source": [
        "import numpy as np\n",
        "import matplotlib\n",
        "import matplotlib.pyplot as plt\n",
        "from scipy.integrate import odeint\n",
        "\n",
        "\n",
        "\n",
        "t = np.linspace(0,50,num=1000)\n",
        "\n",
        "alpha = 1.1\n",
        "beta = 0.4\n",
        "delta = 0.1\n",
        "gamma = 0.4\n",
        "x0 = 10   # fish population in 10s of hundreds\n",
        "y0 = 1    #bear population in 10s of hundreds\n",
        "\n",
        "def model(X, t, alpha, beta, delta, gamma):\n",
        "  x,y = X\n",
        "\n",
        "  dotx = x * (alpha - beta * y)\n",
        "  doty = y * (-delta + gamma * x)\n",
        "\n",
        "  return([dotx,doty])\n",
        "\n",
        "X0 = [x0,y0]\n",
        "result = odeint(model, X0, t, args = (alpha, beta, delta, gamma))\n",
        "\n",
        "x,y = result.T\n",
        "result\n",
        "\n",
        "plt.figure()\n",
        "plt.grid()\n",
        "plt.title(\"odeint method\")\n",
        "plt.plot(t, x, 'xb', label = 'Fish')\n",
        "plt.plot(t, y, '+r', label = \"Bears\")\n",
        "plt.xlabel('Time t, [days]')\n",
        "plt.ylabel('Population')\n",
        "plt.legend()\n",
        "\n",
        "\n",
        "plt.show()\n",
        "\n",
        "# i found it interesting that if delta gets adjusted up the plot oscillates much more\n",
        "\n",
        "\n"
      ],
      "metadata": {
        "id": "Em2H9Q71m8FQ",
        "colab": {
          "base_uri": "https://localhost:8080/",
          "height": 295
        },
        "outputId": "026ad7b9-708b-4a43-da8b-c8afaa388c62"
      },
      "execution_count": null,
      "outputs": [
        {
          "output_type": "display_data",
          "data": {
            "text/plain": [
              "<Figure size 432x288 with 1 Axes>"
            ],
            "image/png": "[encoded data removed]"
          },
          "metadata": {
            "needs_background": "light"
          }
        }
      ]
    },
    {
      "cell_type": "code",
      "source": [
        ""
      ],
      "metadata": {
        "id": "_t2KkJEvljmJ"
      },
      "execution_count": null,
      "outputs": []
    }
  ]
}