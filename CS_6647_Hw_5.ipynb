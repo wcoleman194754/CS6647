{
  "nbformat": 4,
  "nbformat_minor": 0,
  "metadata": {
    "colab": {
      "name": "CS 6647 Hw 5.ipynb",
      "provenance": [],
      "collapsed_sections": [],
      "authorship_tag": "ABX9TyPcf1sK3FSOQ8V83H7fapN6",
      "include_colab_link": true
    },
    "kernelspec": {
      "name": "python3",
      "display_name": "Python 3"
    },
    "language_info": {
      "name": "python"
    }
  },
  "cells": [
    {
      "cell_type": "markdown",
      "metadata": {
        "id": "view-in-github",
        "colab_type": "text"
      },
      "source": [
        "<a href=\"https://colab.research.google.com/github/wcoleman194754/CS6647/blob/main/CS_6647_Hw_5.ipynb\" target=\"_parent\"><img src=\"https://colab.research.google.com/assets/colab-badge.svg\" alt=\"Open In Colab\"/></a>"
      ]
    },
    {
      "cell_type": "code",
      "execution_count": 1,
      "metadata": {
        "id": "_SLNp46rkYJx"
      },
      "outputs": [],
      "source": [
        "import numpy as np"
      ]
    },
    {
      "cell_type": "code",
      "source": [
        "state = {\n",
        "    0: 'rest',\n",
        "    1: 'sweeties',\n",
        "    2: 'exercises'\n",
        "}\n",
        "state"
      ],
      "metadata": {
        "colab": {
          "base_uri": "https://localhost:8080/"
        },
        "id": "a-Km3Zy9kkXs",
        "outputId": "94435be2-7acc-4190-e648-c4107f159162"
      },
      "execution_count": 2,
      "outputs": [
        {
          "output_type": "execute_result",
          "data": {
            "text/plain": [
              "{0: 'rest', 1: 'sweeties', 2: 'exercises'}"
            ]
          },
          "metadata": {},
          "execution_count": 2
        }
      ]
    },
    {
      "cell_type": "code",
      "source": [
        "# transitional matrix\n",
        "\n",
        "M = np.array([[0.2,0.2,0.6], [0.2,0.1,0.7], [0.1,0.3,0.6]])\n",
        "M"
      ],
      "metadata": {
        "colab": {
          "base_uri": "https://localhost:8080/"
        },
        "id": "QHoCErhFk8YM",
        "outputId": "2e46e4e8-4768-49a0-a3b0-e9e251c8c931"
      },
      "execution_count": 3,
      "outputs": [
        {
          "output_type": "execute_result",
          "data": {
            "text/plain": [
              "array([[0.2, 0.2, 0.6],\n",
              "       [0.2, 0.1, 0.7],\n",
              "       [0.1, 0.3, 0.6]])"
            ]
          },
          "metadata": {},
          "execution_count": 3
        }
      ]
    },
    {
      "cell_type": "code",
      "source": [
        "# random walk\n",
        "\n",
        "n=15\n",
        "starting_state = 0\n",
        "previous_state = starting_state\n",
        "\n",
        "for i in range(n):\n",
        "  current_state = np.random.choice([0,1,2],p=M[previous_state])\n",
        "  print(state[current_state], \"---->\", end=\"\")\n",
        "  previous_state = current_state\n",
        "\n"
      ],
      "metadata": {
        "colab": {
          "base_uri": "https://localhost:8080/"
        },
        "id": "7Bavlx8jgAee",
        "outputId": "5cd3eaa0-fabf-444e-cb3d-f35987dead25"
      },
      "execution_count": 4,
      "outputs": [
        {
          "output_type": "stream",
          "name": "stdout",
          "text": [
            "exercises ---->sweeties ---->exercises ---->sweeties ---->exercises ---->sweeties ---->exercises ---->exercises ---->exercises ---->exercises ---->sweeties ---->exercises ---->exercises ---->rest ---->exercises ---->"
          ]
        }
      ]
    },
    {
      "cell_type": "code",
      "source": [
        "# monte carlo method to determine probabilities\n",
        "\n",
        "steps = 15\n",
        "start_state = 0\n",
        "pi = np.array([0,0,0])\n",
        "pi[start_state] = 1\n",
        "previous_state = start_state\n",
        "\n",
        "for i in range(steps):\n",
        "  current_state = np.random.choice([0,1,2], p=M[previous_state])\n",
        "  pi[current_state]+=1\n",
        "  previous_state = current_state\n",
        "\n",
        "print(\"pi = \", pi/steps)"
      ],
      "metadata": {
        "colab": {
          "base_uri": "https://localhost:8080/"
        },
        "id": "RKVaCQbpjSvm",
        "outputId": "19d7aede-01c6-4002-b64f-3f03e51a0125"
      },
      "execution_count": 14,
      "outputs": [
        {
          "output_type": "stream",
          "name": "stdout",
          "text": [
            "pi =  [0.2        0.33333333 0.53333333]\n"
          ]
        }
      ]
    },
    {
      "cell_type": "code",
      "source": [
        "# monte carlo method to determine probabilities\n",
        "\n",
        "steps = 10000\n",
        "start_state = 0\n",
        "pi = np.array([0,0,0])\n",
        "pi[start_state] = 1\n",
        "previous_state = start_state\n",
        "\n",
        "for i in range(steps):\n",
        "  current_state = np.random.choice([0,1,2], p=M[previous_state])\n",
        "  pi[current_state]+=1\n",
        "  previous_state = current_state\n",
        "\n",
        "print(\"pi = \", pi/steps)"
      ],
      "metadata": {
        "colab": {
          "base_uri": "https://localhost:8080/"
        },
        "id": "oHDz-W-uNNJJ",
        "outputId": "29c0abbd-e337-44d0-8a42-63097f5a9260"
      },
      "execution_count": 6,
      "outputs": [
        {
          "output_type": "stream",
          "name": "stdout",
          "text": [
            "pi =  [0.1329 0.2384 0.6288]\n"
          ]
        }
      ]
    },
    {
      "cell_type": "code",
      "source": [
        "# repeated matrix multiplication\n",
        "\n",
        "steps = 15\n",
        "M_n = M\n",
        "\n",
        "\n",
        "for i in range(steps):\n",
        "  M_n = np.matmul(M_n, M)\n",
        "\n",
        "print(\"M^n = \\n\", M_n, \"\\n\")\n",
        "print(\"pi = \", M_n[0])\n"
      ],
      "metadata": {
        "colab": {
          "base_uri": "https://localhost:8080/"
        },
        "id": "xXhHasPjqAoP",
        "outputId": "485b9d6f-e2e1-416d-95f8-af11e6bdf53c"
      },
      "execution_count": 10,
      "outputs": [
        {
          "output_type": "stream",
          "name": "stdout",
          "text": [
            "M^n = \n",
            " [[0.13761468 0.23853211 0.62385321]\n",
            " [0.13761468 0.23853211 0.62385321]\n",
            " [0.13761468 0.23853211 0.62385321]] \n",
            "\n",
            "pi =  [0.13761468 0.23853211 0.62385321]\n"
          ]
        }
      ]
    },
    {
      "cell_type": "code",
      "source": [
        "# repeated matrix multiplication\n",
        "\n",
        "steps = 10000\n",
        "M_n = M\n",
        "\n",
        "\n",
        "for i in range(steps):\n",
        "  M_n = np.matmul(M_n, M)\n",
        "\n",
        "print(\"M^n = \\n\", M_n, \"\\n\")\n",
        "print(\"pi = \", M_n[0])"
      ],
      "metadata": {
        "colab": {
          "base_uri": "https://localhost:8080/"
        },
        "id": "MuqKGs9Rq0Nk",
        "outputId": "d84b6797-d609-4fc0-d13b-02430dfbbc8a"
      },
      "execution_count": 9,
      "outputs": [
        {
          "output_type": "stream",
          "name": "stdout",
          "text": [
            "M^n = \n",
            " [[0.13761468 0.23853211 0.62385321]\n",
            " [0.13761468 0.23853211 0.62385321]\n",
            " [0.13761468 0.23853211 0.62385321]] \n",
            "\n",
            "pi =  [0.13761468 0.23853211 0.62385321]\n"
          ]
        }
      ]
    },
    {
      "cell_type": "markdown",
      "source": [
        "##observations\n",
        "\n",
        "We can see the results of the state probabilities from matrix.\n",
        "As the number of steps get large then the probability states converge on their values. If the simulations are low then the model tends to overstate the probabilities for rest and sweeties. As the number of simulations gets large then we can see that they settle on around 13.76% for rest, 23.85% for sweeties and 62.39% for exercises. "
      ],
      "metadata": {
        "id": "-KHKmvt2rD_S"
      }
    },
    {
      "cell_type": "markdown",
      "source": [
        ""
      ],
      "metadata": {
        "id": "zc_PlRFor8mL"
      }
    }
  ]
}